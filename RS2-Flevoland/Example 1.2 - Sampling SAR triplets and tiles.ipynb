{
 "cells": [
  {
   "cell_type": "code",
   "execution_count": 1,
   "metadata": {},
   "outputs": [],
   "source": [
    "import sys\n",
    "sys.path.append('../')\n",
    "import numpy as np\n",
    "import os\n",
    "import matplotlib.pyplot as plt\n",
    "from src.sample_tiles import *\n",
    "%load_ext autoreload\n",
    "%autoreload 2\n",
    "%matplotlib inline"
   ]
  },
  {
   "cell_type": "markdown",
   "metadata": {},
   "source": [
    "## Step 1. Sample triplets"
   ]
  },
  {
   "cell_type": "code",
   "execution_count": 2,
   "metadata": {},
   "outputs": [
    {
     "name": "stdout",
     "output_type": "stream",
     "text": [
      "[['flevoland_BGRM.npy' 'flevoland_BGRM.npy']\n",
      " ['flevoland_BGRM.npy' 'flevoland_BGRM.npy']\n",
      " ['flevoland_BGRM.npy' 'flevoland_BGRM.npy']\n",
      " ['flevoland_BGRM.npy' 'flevoland_BGRM.npy']\n",
      " ['flevoland_BGRM.npy' 'flevoland_BGRM.npy']]\n"
     ]
    }
   ],
   "source": [
    "tiles_size = 50\n",
    "\n",
    "img_dir = '../data/sar/RS2-Flevoland/rgb-gray/' # directory where images are saved\n",
    "img_triplets = get_triplet_imgs(img_dir, img_ext='.npy', n_triplets=100000)\n",
    "print(img_triplets[:1,:])\n",
    "\n",
    "tile_dir = '../data/sar/RS2-Flevoland/rgb-gray/triplets_' + str(tiles_size) \n",
    "tiles = get_triplet_tiles(tile_dir,\n",
    "                          img_dir, \n",
    "                          img_triplets, \n",
    "                          tiles_size,\n",
    "                          val_type='uint8',\n",
    "                          bands_only=True,\n",
    "                          save=True,\n",
    "                          verbose=False)"
   ]
  },
  {
   "cell_type": "markdown",
   "metadata": {},
   "source": [
    "## Step 2. Sample tiles"
   ]
  },
  {
   "cell_type": "code",
   "execution_count": null,
   "metadata": {},
   "outputs": [],
   "source": [
    "img_dir = '../data/sar/RS2-Flevoland/rgb-gray/' # directory where images are saved\n",
    "img_triplets = get_triplet_imgs(img_dir, img_ext='.npy', n_triplets=10000)\n",
    "print(img_triplets[:1,:])\n",
    "\n",
    "tile_dir = '../data/sar/RS2-Flevoland/rgb-gray/tiles_' + str(tiles_size) \n",
    "# tiles 是tile的中心坐标，对应原始图像中的坐标\n",
    "tiles = get_tiles(tile_dir,\n",
    "                          img_dir, \n",
    "                          img_triplets, \n",
    "                          tile_size=50,\n",
    "                          val_type='uint8',\n",
    "                          bands_only=True,\n",
    "                          save=True,\n",
    "                          verbose=False)"
   ]
  },
  {
   "cell_type": "markdown",
   "metadata": {},
   "source": [
    "## Visualize some tiles!"
   ]
  },
  {
   "cell_type": "code",
   "execution_count": 8,
   "metadata": {},
   "outputs": [
    {
     "data": {
      "image/png": "[encoded data removed]",
      "text/plain": [
       "<Figure size 864x288 with 3 Axes>"
      ]
     },
     "metadata": {},
     "output_type": "display_data"
    },
    {
     "data": {
      "image/png": "[encoded data removed]",
      "text/plain": [
       "<Figure size 864x288 with 3 Axes>"
      ]
     },
     "metadata": {},
     "output_type": "display_data"
    },
    {
     "data": {
      "image/png": "[encoded data removed]",
      "text/plain": [
       "<Figure size 864x288 with 3 Axes>"
      ]
     },
     "metadata": {},
     "output_type": "display_data"
    }
   ],
   "source": [
    "n_triplets = 1\n",
    "plt.rcParams['figure.figsize'] = (12,4)\n",
    "for i in range(n_triplets):\n",
    "    tile = np.load(os.path.join(tile_dir, str(i)+'anchor.npy'))\n",
    "    neighbor = np.load(os.path.join(tile_dir, str(i)+'neighbor.npy'))\n",
    "    distant = np.load(os.path.join(tile_dir, str(i)+'distant.npy'))\n",
    "    \n",
    "    vmin = np.array([tile, neighbor, distant]).min()\n",
    "    vmax = np.array([tile, neighbor, distant]).max()\n",
    "    \n",
    "    plt.figure()\n",
    "    plt.subplot(1,3,1)\n",
    "    plt.imshow(tile[:,:,[0,1,2]])\n",
    "    plt.title('Anchor '+str(i))\n",
    "    plt.subplot(1,3,2)\n",
    "    plt.imshow(neighbor[:,:,[0,1,2]])\n",
    "    plt.title('Neighbor '+str(i))\n",
    "    plt.subplot(1,3,3)\n",
    "    plt.imshow(distant[:,:,[0,1,2]])\n",
    "    plt.title('Distant '+str(i))"
   ]
  }
 ],
 "metadata": {
  "kernelspec": {
   "display_name": "Python 3",
   "language": "python",
   "name": "python3"
  },
  "language_info": {
   "codemirror_mode": {
    "name": "ipython",
    "version": 3
   },
   "file_extension": ".py",
   "mimetype": "text/x-python",
   "name": "python",
   "nbconvert_exporter": "python",
   "pygments_lexer": "ipython3",
   "version": "3.6.5"
  },
  "toc": {
   "base_numbering": 1,
   "nav_menu": {},
   "number_sections": true,
   "sideBar": true,
   "skip_h1_title": false,
   "title_cell": "Table of Contents",
   "title_sidebar": "Contents",
   "toc_cell": false,
   "toc_position": {
    "height": "329px",
    "left": "566px",
    "top": "155px",
    "width": "165px"
   },
   "toc_section_display": true,
   "toc_window_display": false
  },
  "varInspector": {
   "cols": {
    "lenName": 16,
    "lenType": 16,
    "lenVar": 40
   },
   "kernels_config": {
    "python": {
     "delete_cmd_postfix": "",
     "delete_cmd_prefix": "del ",
     "library": "var_list.py",
     "varRefreshCmd": "print(var_dic_list())"
    },
    "r": {
     "delete_cmd_postfix": ") ",
     "delete_cmd_prefix": "rm(",
     "library": "var_list.r",
     "varRefreshCmd": "cat(var_dic_list()) "
    }
   },
   "oldHeight": 230.933334,
   "position": {
    "height": "40px",
    "left": "643.8px",
    "right": "20px",
    "top": "121px",
    "width": "350px"
   },
   "types_to_exclude": [
    "module",
    "function",
    "builtin_function_or_method",
    "instance",
    "_Feature"
   ],
   "varInspector_section_display": "none",
   "window_display": false
  }
 },
 "nbformat": 4,
 "nbformat_minor": 2
}
