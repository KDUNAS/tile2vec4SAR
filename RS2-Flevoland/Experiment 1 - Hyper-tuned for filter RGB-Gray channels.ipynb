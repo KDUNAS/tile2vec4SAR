{
 "cells": [
  {
   "cell_type": "code",
   "execution_count": 1,
   "metadata": {},
   "outputs": [],
   "source": [
    "import sys\n",
    "sys.path.append('../')\n",
    "import os\n",
    "from time import time\n",
    "import numpy as np\n",
    "import torch\n",
    "from torch import optim\n",
    "from torch.autograd import Variable\n",
    "\n",
    "# Random Forest Classification\n",
    "from sklearn.preprocessing import LabelEncoder\n",
    "from sklearn.ensemble import RandomForestClassifier\n",
    "from sklearn.model_selection import train_test_split\n",
    "\n",
    "# Tile2vec\n",
    "from src.resnet import ResNet18\n",
    "from src.tilenet import make_tilenet\n",
    "from src.training import prep_triplets, train_triplet_epoch\n",
    "from src.datasets import TileTripletsDataset, GetBands, RandomFlipAndRotate, ClipAndScale, ToFloatTensor, triplet_dataloader\n",
    "\n",
    "import matplotlib.pyplot as plt\n",
    "import matplotlib\n",
    "\n",
    "%load_ext autoreload\n",
    "%autoreload 2\n",
    "%matplotlib inline"
   ]
  },
  {
   "cell_type": "code",
   "execution_count": 2,
   "metadata": {},
   "outputs": [],
   "source": [
    "tile2vec_dir = '../'\n",
    "sys.path.append(tile2vec_dir)\n",
    "\n",
    "# Environment stuff\n",
    "os.environ['CUDA_VISIBLE_DEVICES'] = '0'\n",
    "cuda = torch.cuda.is_available()\n",
    "print(cuda)"
   ]
  },
  {
   "cell_type": "markdown",
   "metadata": {},
   "source": [
    "# Dataloader + TileNet Setup"
   ]
  },
  {
   "cell_type": "code",
   "execution_count": null,
   "metadata": {},
   "outputs": [],
   "source": [
    "# Defining Parameters\n",
    "img_type = 'rgbm'\n",
    "tiles_size = 50\n",
    "tile_dir = '../data/sar/RS2-Flevoland/rgb-gray/triplets_' + str(tiles_size) + '/'\n",
    "bands = 4\n",
    "augment = False\n",
    "batch_size = 100\n",
    "shuffle = True\n",
    "num_workers = 4\n",
    "n_triplets = 10000 \n",
    "# modification: adding 8700 more for semi-supervised learning purposes"
   ]
  },
  {
   "cell_type": "code",
   "execution_count": 9,
   "metadata": {},
   "outputs": [
    {
     "name": "stdout",
     "output_type": "stream",
     "text": [
      "Dataloader set up complete.\n"
     ]
    }
   ],
   "source": [
    "dataloader = triplet_dataloader(img_type, tile_dir, bands=bands, augment=augment,\n",
    "                                batch_size=batch_size, shuffle=shuffle, num_workers=num_workers, \n",
    "                                n_triplets=n_triplets, pairs_only=True)\n",
    "print('Dataloader set up complete.')"
   ]
  },
  {
   "cell_type": "code",
   "execution_count": 11,
   "metadata": {},
   "outputs": [
    {
     "name": "stdout",
     "output_type": "stream",
     "text": [
      "TileNet set up complete.\n"
     ]
    }
   ],
   "source": [
    "in_channels = bands\n",
    "z_dim = 512\n",
    "\n",
    "TileNet = make_tilenet(in_channels=in_channels, z_dim=z_dim, strat2=False)\n",
    "TileNet.train()\n",
    "if cuda: TileNet.cuda()\n",
    "print('TileNet set up complete.')"
   ]
  },
  {
   "cell_type": "markdown",
   "metadata": {},
   "source": [
    "# Training Model + Writing Each Epoch to File"
   ]
  },
  {
   "cell_type": "code",
   "execution_count": 13,
   "metadata": {},
   "outputs": [],
   "source": [
    "# Hyperparameter \n",
    "lr = 0.0003 # hyper tuned\n",
    "optimizer = optim.Adam(TileNet.parameters(), lr=lr, betas=(0.9, 0.999)) # hyper tuned\n",
    "\n",
    "epochs = 30\n",
    "margin = 10\n",
    "l2 = 0.01\n",
    "print_every = 10000\n",
    "save_models = True\n",
    "\n",
    "model_dir = '../models/RS2-Flevoland/rgb-gray-nf_'+ str(tiles_size) + '/'\n",
    "if not os.path.exists(model_dir): os.makedirs(model_dir)"
   ]
  },
  {
   "cell_type": "code",
   "execution_count": 15,
   "metadata": {
    "collapsed": true
   },
   "outputs": [
    {
     "name": "stdout",
     "output_type": "stream",
     "text": [
      "Begin training.................\n",
      "Epoch 1: [10000/10000 (100%)], Avg loss: 6.4939\n",
      "Finished epoch 1: 389.503s\n",
      "  Average loss: 6.4939\n",
      "  Average l_n: 3.3697\n",
      "  Average l_d: -11.5737\n",
      "  Average l_nd: -8.2040\n",
      "\n",
      "Epoch 2: [10000/10000 (100%)], Avg loss: 5.7088\n",
      "Finished epoch 2: 436.000s\n",
      "  Average loss: 5.7088\n",
      "  Average l_n: 2.9956\n",
      "  Average l_d: -11.3789\n",
      "  Average l_nd: -8.3834\n",
      "\n",
      "Epoch 3: [10000/10000 (100%)], Avg loss: 5.4008\n",
      "Finished epoch 3: 482.534s\n",
      "  Average loss: 5.4008\n",
      "  Average l_n: 2.8377\n",
      "  Average l_d: -11.4105\n",
      "  Average l_nd: -8.5728\n",
      "\n",
      "Epoch 4: [10000/10000 (100%)], Avg loss: 5.2284\n",
      "Finished epoch 4: 529.326s\n",
      "  Average loss: 5.2284\n",
      "  Average l_n: 2.7327\n",
      "  Average l_d: -11.3755\n",
      "  Average l_nd: -8.6427\n",
      "\n",
      "Epoch 5: [10000/10000 (100%)], Avg loss: 5.1612\n",
      "Finished epoch 5: 576.043s\n",
      "  Average loss: 5.1612\n",
      "  Average l_n: 2.7468\n",
      "  Average l_d: -11.4254\n",
      "  Average l_nd: -8.6786\n",
      "\n",
      "Epoch 6: [10000/10000 (100%)], Avg loss: 5.0759\n",
      "Finished epoch 6: 622.825s\n",
      "  Average loss: 5.0759\n",
      "  Average l_n: 2.6941\n",
      "  Average l_d: -11.4529\n",
      "  Average l_nd: -8.7588\n",
      "\n",
      "Epoch 7: [10000/10000 (100%)], Avg loss: 4.9974\n",
      "Finished epoch 7: 669.940s\n",
      "  Average loss: 4.9974\n",
      "  Average l_n: 2.6999\n",
      "  Average l_d: -11.5170\n",
      "  Average l_nd: -8.8170\n",
      "\n",
      "Epoch 8: [10000/10000 (100%)], Avg loss: 4.9764\n",
      "Finished epoch 8: 716.818s\n",
      "  Average loss: 4.9764\n",
      "  Average l_n: 2.6507\n",
      "  Average l_d: -11.3822\n",
      "  Average l_nd: -8.7315\n",
      "\n",
      "Epoch 9: [10000/10000 (100%)], Avg loss: 4.9537\n",
      "Finished epoch 9: 763.687s\n",
      "  Average loss: 4.9537\n",
      "  Average l_n: 2.6315\n",
      "  Average l_d: -11.3599\n",
      "  Average l_nd: -8.7284\n",
      "\n",
      "Epoch 10: [10000/10000 (100%)], Avg loss: 4.9149\n",
      "Finished epoch 10: 810.566s\n",
      "  Average loss: 4.9149\n",
      "  Average l_n: 2.6400\n",
      "  Average l_d: -11.4056\n",
      "  Average l_nd: -8.7656\n",
      "\n",
      "Epoch 11: [10000/10000 (100%)], Avg loss: 4.8851\n",
      "Finished epoch 11: 857.478s\n",
      "  Average loss: 4.8851\n",
      "  Average l_n: 2.6176\n",
      "  Average l_d: -11.4274\n",
      "  Average l_nd: -8.8099\n",
      "\n",
      "Epoch 12: [10000/10000 (100%)], Avg loss: 4.7873\n",
      "Finished epoch 12: 904.396s\n",
      "  Average loss: 4.7873\n",
      "  Average l_n: 2.6293\n",
      "  Average l_d: -11.5269\n",
      "  Average l_nd: -8.8976\n",
      "\n",
      "Epoch 13: [10000/10000 (100%)], Avg loss: 4.8048\n",
      "Finished epoch 13: 951.323s\n",
      "  Average loss: 4.8048\n",
      "  Average l_n: 2.5865\n",
      "  Average l_d: -11.4951\n",
      "  Average l_nd: -8.9085\n",
      "\n",
      "Epoch 14: [10000/10000 (100%)], Avg loss: 4.7040\n",
      "Finished epoch 14: 998.251s\n",
      "  Average loss: 4.7040\n",
      "  Average l_n: 2.5578\n",
      "  Average l_d: -11.5696\n",
      "  Average l_nd: -9.0118\n",
      "\n",
      "Epoch 15: [10000/10000 (100%)], Avg loss: 4.7304\n",
      "Finished epoch 15: 1045.206s\n",
      "  Average loss: 4.7304\n",
      "  Average l_n: 2.5446\n",
      "  Average l_d: -11.4939\n",
      "  Average l_nd: -8.9493\n",
      "\n",
      "Epoch 16: [10000/10000 (100%)], Avg loss: 4.6849\n",
      "Finished epoch 16: 1092.134s\n",
      "  Average loss: 4.6849\n",
      "  Average l_n: 2.5561\n",
      "  Average l_d: -11.5292\n",
      "  Average l_nd: -8.9731\n",
      "\n",
      "Epoch 17: [10000/10000 (100%)], Avg loss: 4.7226\n",
      "Finished epoch 17: 1139.081s\n",
      "  Average loss: 4.7226\n",
      "  Average l_n: 2.6979\n",
      "  Average l_d: -11.8151\n",
      "  Average l_nd: -9.1171\n",
      "\n",
      "Epoch 18: [10000/10000 (100%)], Avg loss: 4.6036\n",
      "Finished epoch 18: 1186.036s\n",
      "  Average loss: 4.6036\n",
      "  Average l_n: 2.5244\n",
      "  Average l_d: -11.5311\n",
      "  Average l_nd: -9.0068\n",
      "\n",
      "Epoch 19: [10000/10000 (100%)], Avg loss: 4.6879\n",
      "Finished epoch 19: 1233.033s\n",
      "  Average loss: 4.6879\n",
      "  Average l_n: 2.6981\n",
      "  Average l_d: -11.7839\n",
      "  Average l_nd: -9.0858\n",
      "\n",
      "Epoch 20: [10000/10000 (100%)], Avg loss: 4.6370\n",
      "Finished epoch 20: 1393.069s\n",
      "  Average loss: 4.6370\n",
      "  Average l_n: 2.5749\n",
      "  Average l_d: -11.8025\n",
      "  Average l_nd: -9.2277\n",
      "\n",
      "Epoch 21: [10000/10000 (100%)], Avg loss: 4.6624\n",
      "Finished epoch 21: 1906.401s\n",
      "  Average loss: 4.6624\n",
      "  Average l_n: 2.6285\n",
      "  Average l_d: -11.7385\n",
      "  Average l_nd: -9.1100\n",
      "\n",
      "Epoch 22: [10000/10000 (100%)], Avg loss: 4.5063\n",
      "Finished epoch 22: 1952.828s\n",
      "  Average loss: 4.5063\n",
      "  Average l_n: 2.5135\n",
      "  Average l_d: -11.7545\n",
      "  Average l_nd: -9.2410\n",
      "\n",
      "Epoch 23: [10000/10000 (100%)], Avg loss: 4.5361\n",
      "Finished epoch 23: 2000.270s\n",
      "  Average loss: 4.5361\n",
      "  Average l_n: 2.5721\n",
      "  Average l_d: -11.7346\n",
      "  Average l_nd: -9.1625\n",
      "\n",
      "Epoch 24: [10000/10000 (100%)], Avg loss: 4.4850\n",
      "Finished epoch 24: 2046.987s\n",
      "  Average loss: 4.4850\n",
      "  Average l_n: 2.5703\n",
      "  Average l_d: -12.0520\n",
      "  Average l_nd: -9.4817\n",
      "\n",
      "Epoch 25: [10000/10000 (100%)], Avg loss: 4.5938\n",
      "Finished epoch 25: 2093.781s\n",
      "  Average loss: 4.5938\n",
      "  Average l_n: 2.7663\n",
      "  Average l_d: -12.2466\n",
      "  Average l_nd: -9.4803\n",
      "\n",
      "Epoch 26: [10000/10000 (100%)], Avg loss: 4.4973\n",
      "Finished epoch 26: 2140.623s\n",
      "  Average loss: 4.4973\n",
      "  Average l_n: 2.5814\n",
      "  Average l_d: -11.9546\n",
      "  Average l_nd: -9.3732\n",
      "\n",
      "Epoch 27: [10000/10000 (100%)], Avg loss: 4.4715\n",
      "Finished epoch 27: 2187.500s\n",
      "  Average loss: 4.4715\n",
      "  Average l_n: 2.6287\n",
      "  Average l_d: -11.8768\n",
      "  Average l_nd: -9.2481\n",
      "\n",
      "Epoch 28: [10000/10000 (100%)], Avg loss: 4.5089\n",
      "Finished epoch 28: 2234.386s\n",
      "  Average loss: 4.5089\n",
      "  Average l_n: 2.7772\n",
      "  Average l_d: -12.3485\n",
      "  Average l_nd: -9.5713\n",
      "\n",
      "Epoch 29: [10000/10000 (100%)], Avg loss: 4.6165\n",
      "Finished epoch 29: 2282.731s\n",
      "  Average loss: 4.6165\n",
      "  Average l_n: 2.7741\n",
      "  Average l_d: -12.3122\n",
      "  Average l_nd: -9.5381\n",
      "\n",
      "Epoch 30: [10000/10000 (100%)], Avg loss: 4.4521\n",
      "Finished epoch 30: 2329.679s\n",
      "  Average loss: 4.4521\n",
      "  Average l_n: 2.6054\n",
      "  Average l_d: -12.0398\n",
      "  Average l_nd: -9.4344\n",
      "\n"
     ]
    }
   ],
   "source": [
    "t0 = time()\n",
    "#with open(results_fn, 'w') as file:\n",
    "\n",
    "plot_list = []\n",
    "print('Begin training.................')\n",
    "for epoch in range(0, epochs):\n",
    "    (avg_loss, bullshit, avg_l_n, avg_l_d, avg_l_nd) = train_triplet_epoch(\n",
    "        TileNet, cuda, dataloader, optimizer, epoch+1, margin=margin, l2=l2,\n",
    "        print_every=print_every, t0=t0)\n",
    "    plot_list.append((epoch+1,avg_loss))\n",
    "    append_name = \"strat1ht1_ep\" + str(epoch+1) + \".ckpt\"\n",
    "    if save_models:\n",
    "        model_fn = os.path.join(model_dir + append_name)\n",
    "        torch.save(TileNet.state_dict(),model_fn)\n",
    "        \n",
    "np.save(os.path.join(model_dir + 'plot_list.npy', plot_list)    "
   ]
  },
  {
   "cell_type": "code",
   "execution_count": 16,
   "metadata": {},
   "outputs": [
    {
     "name": "stdout",
     "output_type": "stream",
     "text": [
      "[(1, 6.493946852684021), (2, 5.70880820274353), (3, 5.40076455116272), (4, 5.228403244018555), (5, 5.1611570596694945), (6, 5.075880417823791), (7, 4.9973913669586185), (8, 4.97637640953064), (9, 4.953674430847168), (10, 4.914908804893494), (11, 4.885103316307068), (12, 4.787325139045715), (13, 4.804799208641052), (14, 4.703984780311584), (15, 4.730426626205444), (16, 4.684915134906769), (17, 4.722569403648376), (18, 4.603629732131958), (19, 4.6878531503677365), (20, 4.63700846195221), (21, 4.662391295433045), (22, 4.506323261260986), (23, 4.536091980934143), (24, 4.4849834990501405), (25, 4.593811175823212), (26, 4.497296917438507), (27, 4.471473197937012), (28, 4.508935334682465), (29, 4.616507894992829), (30, 4.452059946060181)]\n"
     ]
    }
   ],
   "source": [
    "print(plot_list)"
   ]
  },
  {
   "cell_type": "markdown",
   "metadata": {},
   "source": [
    "# Pre Process Y Values"
   ]
  },
  {
   "cell_type": "code",
   "execution_count": 17,
   "metadata": {},
   "outputs": [
    {
     "name": "stdout",
     "output_type": "stream",
     "text": [
      "(1000,)\n"
     ]
    }
   ],
   "source": [
    "#note to self: need to embed tiles first and then figure out loop for reading in the saved model and plotting\n",
    "#the classification accuracies per epoch\n",
    "tile_dir = '../data/sar/RS2-Flevoland/rgb-gray/tiles_' + str(tiles_size) + '/'\n",
    "n_tiles = 1000\n",
    "y = np.load(os.path.join(tile_dir + 'y.npy')) \n",
    "print(y.shape)\n",
    "\n",
    "le = LabelEncoder()\n",
    "y = le.fit_transform(y)\n",
    "print(set(y))"
   ]
  },
  {
   "cell_type": "markdown",
   "metadata": {},
   "source": [
    "# Load in Epochs' Weights + Run each on tile embeddings + Random Forest "
   ]
  },
  {
   "cell_type": "code",
   "execution_count": 22,
   "metadata": {},
   "outputs": [],
   "source": [
    "def getTileEmbeddings(tilenet):\n",
    "    X = np.zeros((n_tiles, z_dim))\n",
    "    for idx in range(n_tiles):\n",
    "        tile = np.load(os.path.join(tile_dir, '{}tile.npy'.format(idx+1)))\n",
    "        # Get first 4 NAIP channels (5th is CDL mask)\n",
    "        tile = tile[:,:,:4]\n",
    "        # Rearrange to PyTorch order\n",
    "        tile = np.moveaxis(tile, -1, 0)\n",
    "        tile = np.expand_dims(tile, axis=0)\n",
    "        # Scale to [0, 1]\n",
    "        tile = tile / 255\n",
    "        # Embed tile\n",
    "        tile = torch.from_numpy(tile).float()\n",
    "        tile = Variable(tile)\n",
    "        if cuda: tile = tile.cuda()\n",
    "        z = tilenet.encode(tile)\n",
    "        if cuda: z = z.cpu()\n",
    "        z = z.data.numpy() #1 by 512\n",
    "        X[idx,:] = z\n",
    "    return X"
   ]
  },
  {
   "cell_type": "code",
   "execution_count": 23,
   "metadata": {
    "collapsed": true
   },
   "outputs": [
    {
     "name": "stdout",
     "output_type": "stream",
     "text": [
      "Results for Epoch Number:  1\n",
      "Mean accuracy: 0.6288\n",
      "Standard deviation: 0.0344\n",
      "Results for Epoch Number:  2\n",
      "Mean accuracy: 0.6432\n",
      "Standard deviation: 0.0283\n",
      "Results for Epoch Number:  3\n",
      "Mean accuracy: 0.6450\n",
      "Standard deviation: 0.0323\n",
      "Results for Epoch Number:  4\n",
      "Mean accuracy: 0.6436\n",
      "Standard deviation: 0.0307\n",
      "Results for Epoch Number:  5\n",
      "Mean accuracy: 0.6653\n",
      "Standard deviation: 0.0298\n",
      "Results for Epoch Number:  6\n",
      "Mean accuracy: 0.6594\n",
      "Standard deviation: 0.0345\n",
      "Results for Epoch Number:  7\n",
      "Mean accuracy: 0.6636\n",
      "Standard deviation: 0.0286\n",
      "Results for Epoch Number:  8\n",
      "Mean accuracy: 0.6569\n",
      "Standard deviation: 0.0309\n",
      "Results for Epoch Number:  9\n",
      "Mean accuracy: 0.6664\n",
      "Standard deviation: 0.0294\n",
      "Results for Epoch Number:  10\n",
      "Mean accuracy: 0.6630\n",
      "Standard deviation: 0.0306\n",
      "Results for Epoch Number:  11\n",
      "Mean accuracy: 0.6677\n",
      "Standard deviation: 0.0318\n",
      "Results for Epoch Number:  12\n",
      "Mean accuracy: 0.6714\n",
      "Standard deviation: 0.0339\n",
      "Results for Epoch Number:  13\n",
      "Mean accuracy: 0.6664\n",
      "Standard deviation: 0.0319\n",
      "Results for Epoch Number:  14\n",
      "Mean accuracy: 0.6715\n",
      "Standard deviation: 0.0260\n",
      "Results for Epoch Number:  15\n",
      "Mean accuracy: 0.6695\n",
      "Standard deviation: 0.0301\n",
      "Results for Epoch Number:  16\n",
      "Mean accuracy: 0.6686\n",
      "Standard deviation: 0.0305\n",
      "Results for Epoch Number:  17\n",
      "Mean accuracy: 0.6713\n",
      "Standard deviation: 0.0281\n",
      "Results for Epoch Number:  18\n",
      "Mean accuracy: 0.6728\n",
      "Standard deviation: 0.0342\n",
      "Results for Epoch Number:  19\n",
      "Mean accuracy: 0.6642\n",
      "Standard deviation: 0.0311\n",
      "Results for Epoch Number:  20\n",
      "Mean accuracy: 0.6763\n",
      "Standard deviation: 0.0303\n",
      "Results for Epoch Number:  21\n",
      "Mean accuracy: 0.6787\n",
      "Standard deviation: 0.0304\n",
      "Results for Epoch Number:  22\n",
      "Mean accuracy: 0.6808\n",
      "Standard deviation: 0.0302\n",
      "Results for Epoch Number:  23\n",
      "Mean accuracy: 0.6857\n",
      "Standard deviation: 0.0293\n",
      "Results for Epoch Number:  24\n",
      "Mean accuracy: 0.6711\n",
      "Standard deviation: 0.0289\n",
      "Results for Epoch Number:  25\n",
      "Mean accuracy: 0.6790\n",
      "Standard deviation: 0.0269\n",
      "Results for Epoch Number:  26\n",
      "Mean accuracy: 0.6545\n",
      "Standard deviation: 0.0279\n",
      "Results for Epoch Number:  27\n",
      "Mean accuracy: 0.6572\n",
      "Standard deviation: 0.0283\n",
      "Results for Epoch Number:  28\n",
      "Mean accuracy: 0.6752\n",
      "Standard deviation: 0.0301\n",
      "Results for Epoch Number:  29\n",
      "Mean accuracy: 0.6757\n",
      "Standard deviation: 0.0297\n",
      "Results for Epoch Number:  30\n",
      "Mean accuracy: 0.6843\n",
      "Standard deviation: 0.0303\n"
     ]
    }
   ],
   "source": [
    "epochsToAccuracy = []\n",
    "epochsToSTD = []\n",
    "for i in range(0,epochs): #iterator\n",
    "    curEpoch = i + 1 # 9 + 1\n",
    "    # Setting up model\n",
    "    tilenet = ResNet18()\n",
    "    if cuda: tilenet.cuda()\n",
    "    model_fn = model_dir + \"strat1ht1_ep\"+str(curEpoch)+\".ckpt\" #open file\n",
    "    #checkpoint = torch.load(model_fn)\n",
    "    tilenet.load_state_dict(torch.load(model_fn), strict=False)\n",
    "    #tilenet.load_state_dict(checkpoint)\n",
    "    tilenet.eval()\n",
    "    \n",
    "    X = getTileEmbeddings(tilenet) #function above\n",
    "    \n",
    "    #train random forest classifier\n",
    "    n_trials = 100\n",
    "    accs = np.zeros((n_trials,))\n",
    "    for i in range(n_trials):\n",
    "        # Splitting data and training RF classifer\n",
    "        X_tr, X_te, y_tr, y_te = train_test_split(X, y, test_size=0.2)\n",
    "        rf = RandomForestClassifier(n_estimators=100)\n",
    "        rf.fit(X_tr, y_tr) #X-tr is 512 by 1\n",
    "        accs[i] = rf.score(X_te, y_te)\n",
    "    print(\"Results for Epoch Number: \", str(curEpoch))\n",
    "    print('Mean accuracy: {:0.4f}'.format(accs.mean()))\n",
    "    print('Standard deviation: {:0.4f}'.format(accs.std()))\n",
    "    epochsToAccuracy.append((curEpoch,accs.mean()))\n",
    "    epochsToSTD.append((curEpoch,accs.std()))\n",
    "#     break\n",
    "    \n",
    "# save value   \n",
    "np.save(os.path.join(model_dir + 'epochsToAccuracy.npy', epochsToAccuracy)  \n",
    "np.save(os.path.join(model_dir + 'epochsToSTD.npy', epochsToSTD)     \n",
    "    "
   ]
  },
  {
   "cell_type": "code",
   "execution_count": 24,
   "metadata": {},
   "outputs": [
    {
     "name": "stdout",
     "output_type": "stream",
     "text": [
      "[(1, 0.034424700434426456), (2, 0.028296422035303335), (3, 0.03225286808952036), (4, 0.030725233929133892), (5, 0.029839738604753217), (6, 0.034462153153858505), (7, 0.02862948654796309), (8, 0.0308608165802527), (9, 0.029438877356312346), (10, 0.03062756111739881), (11, 0.03176771159526603), (12, 0.03389749253263432), (13, 0.03190497610091566), (14, 0.02604323328621082), (15, 0.030103986446980726), (16, 0.030463748948545373), (17, 0.028092481200492053), (18, 0.0342144340885539), (19, 0.03113454672867424), (20, 0.03028510359896428), (21, 0.030402467005162574), (22, 0.030205297548608904), (23, 0.029348381556740043), (24, 0.028933501343598206), (25, 0.026909988851725655), (26, 0.027918586998628713), (27, 0.0283400776286869), (28, 0.03009464238033074), (29, 0.029653456796805314), (30, 0.030328658064609437)]\n"
     ]
    }
   ],
   "source": [
    "print(epochsToSTD)"
   ]
  },
  {
   "cell_type": "code",
   "execution_count": 25,
   "metadata": {},
   "outputs": [
    {
     "data": {
      "text/plain": [
       "<Figure size 640x480 with 1 Axes>"
      ]
     },
     "metadata": {},
     "output_type": "display_data"
    },
    {
     "name": "stdout",
     "output_type": "stream",
     "text": [
      "0.6843499999999999 was the final Accuracy\n"
     ]
    }
   ],
   "source": [
    "plt.plot(*zip(*epochsToAccuracy))\n",
    "plt.title('Triplet Augmentation Average Test Performance')\n",
    "plt.xlabel('Epochs')\n",
    "plt.ylabel('Accuracy')\n",
    "plt.show()\n",
    "print(epochsToAccuracy[epochs-1][1], \"was the final Accuracy\")"
   ]
  },
  {
   "cell_type": "code",
   "execution_count": 26,
   "metadata": {},
   "outputs": [
    {
     "name": "stdout",
     "output_type": "stream",
     "text": [
      "The min loss was 4.452059946060181\n"
     ]
    },
    {
     "data": {
      "image/png": "[encoded data removed]",
      "text/plain": [
       "<Figure size 432x288 with 1 Axes>"
      ]
     },
     "metadata": {
      "needs_background": "light"
     },
     "output_type": "display_data"
    }
   ],
   "source": [
    "plt.plot(*zip(*plot_list))\n",
    "plt.title('Triplet Augmentation Loss Performance')\n",
    "plt.xlabel('Epochs')\n",
    "plt.ylabel('Loss')\n",
    "print(\"The min loss was\",str(plot_list[epochs-1][1]))\n",
    "plt.show()"
   ]
  },
  {
   "cell_type": "code",
   "execution_count": 27,
   "metadata": {},
   "outputs": [
    {
     "data": {
      "image/png": "[encoded data removed]",
      "text/plain": [
       "<Figure size 432x288 with 1 Axes>"
      ]
     },
     "metadata": {
      "needs_background": "light"
     },
     "output_type": "display_data"
    }
   ],
   "source": [
    "plt.plot(*zip(*epochsToSTD))\n",
    "plt.title('STD on Random Forest Test Prediction')\n",
    "plt.xlabel('Epochs')\n",
    "plt.ylabel('Standard Deviation')\n",
    "plt.show()"
   ]
  },
  {
   "cell_type": "markdown",
   "metadata": {},
   "source": [
    "# Code for Visualizations/Analysis"
   ]
  },
  {
   "cell_type": "code",
   "execution_count": 28,
   "metadata": {},
   "outputs": [
    {
     "name": "stdout",
     "output_type": "stream",
     "text": [
      "(200,)\n",
      "(200,)\n"
     ]
    }
   ],
   "source": [
    "#iterator\n",
    "i = 29\n",
    "curEpoch = epochs\n",
    "# Setting up model\n",
    "tilenet = ResNet18()\n",
    "if cuda: tilenet.cuda()\n",
    "model_fn = model_dir + \"strat1ht1_ep\"+str(curEpoch)+\".ckpt\" # open file\n",
    "tilenet.load_state_dict(torch.load(model_fn), strict=False)\n",
    "tilenet.eval()\n",
    "\n",
    "X = getTileEmbeddings(tilenet) #function above\n",
    "\n",
    "#train random forest classifier\n",
    "n_trials = 100\n",
    "accs = np.zeros((n_trials,))\n",
    "#for i in range(n_trials):\n",
    "    # Splitting data and training RF classifer\n",
    "X_tr, X_te, y_tr, y_te = train_test_split(X, y, test_size=0.2)\n",
    "rf = RandomForestClassifier(n_estimators = 100)\n",
    "rf.fit(X_tr, y_tr) #X-tr is 512 by 1\n",
    "rf_predictions = rf.predict(X_te)\n",
    "print(rf_predictions.shape)\n",
    "rf_probs = rf.predict_proba(X_te)[:, 1]\n",
    "print(rf_probs.shape)\n",
    "\n",
    "# from sklearn.metrics import roc_auc_score\n",
    "# roc_value = roc_auc_score(y_te, rf_probs)\n",
    "# print(roc_value)\n",
    "\n",
    "#accs[i] = rf.score(X_te, y_te)\n",
    "# print(\"Results for Epoch Number: \", str(curEpoch))\n",
    "# print('Mean accuracy: {:0.4f}'.format(accs.mean()))\n",
    "# print('Standard deviation: {:0.4f}'.format(accs.std()))\n",
    "# epochsToAccuracy.append((curEpoch,accs.mean()))\n",
    "# epochsToSTD.append((curEpoch,accs.std()))\n",
    "# print(epochsToAccuracy)\n",
    "# print(epochsToSTD)"
   ]
  },
  {
   "cell_type": "code",
   "execution_count": 29,
   "metadata": {},
   "outputs": [
    {
     "name": "stdout",
     "output_type": "stream",
     "text": [
      "(200,)\n"
     ]
    }
   ],
   "source": [
    "print(y_te.shape)"
   ]
  },
  {
   "cell_type": "code",
   "execution_count": 30,
   "metadata": {},
   "outputs": [
    {
     "name": "stdout",
     "output_type": "stream",
     "text": [
      "[12  9  9 20  9 12  9 20  9  9  9  9 20  5  9 20  9 17  9  9  9  9 12 20\n",
      " 17 16  8 20  8  9 16  9  9 20  9  9  9  9  9 12 17 20 20 20  8  9  9  9\n",
      " 12 12  9 20  9  9  9  9 20 17 12 12  9 20 12 20 13 17  9  9 17  9 16  9\n",
      " 12  9  9  9 17 12  9 16  9  7 12  9  9 12  9  9 20  9  9 16 16  9 20  9\n",
      "  9 12  9 22  9  9 17 12 12  9 12 20  9 17 12 13 20 12  9  9  5 20 20 17\n",
      " 20 17  5 20  9  9  9 17  9  9 20 17  9  9  9  9  9 12 12  8 12 24  9 12\n",
      "  9 18 20 20  9  9  9 17  9 12  9  8  9  9 20  9 16 12  5  5 12  9  9 20\n",
      "  9 17 12 20 12 12  9 12 20  9 20 20 16  9 20  9  1 17  9  9  9 20  9 12\n",
      " 12 17 12  9  9 20 20  9]\n",
      "[0, 1, 2, 3, 4, 5, 6, 7, 8, 9, 10, 11, 12, 13, 14, 15, 16, 17, 18, 19, 20, 21, 22, 23, 24, 25, 26, 27]\n"
     ]
    }
   ],
   "source": [
    "#classes\n",
    "print(rf_predictions)\n",
    "print(list(set(y)))"
   ]
  },
  {
   "cell_type": "code",
   "execution_count": 31,
   "metadata": {},
   "outputs": [
    {
     "name": "stdout",
     "output_type": "stream",
     "text": [
      "(28, 28)\n",
      "   0   0   0   0   0   0   0   0   0   1   0   0   0   0   0   0   0   0   0   0   0   0   0   0   0   0   0   0\n",
      "   0   1   0   0   0   0   0   0   0   0   0   0   1   0   0   0   0   0   0   0   0   0   0   0   0   0   0   0\n",
      "   0   0   0   0   0   0   0   0   0   0   0   0   0   0   0   0   0   0   0   0   0   0   0   0   0   0   0   0\n",
      "   0   0   0   0   0   0   0   0   0   1   0   0   0   0   0   0   0   0   0   0   2   0   0   0   0   0   0   0\n",
      "   0   0   0   0   0   0   0   0   0   0   0   0   0   0   0   0   0   0   0   0   0   0   0   0   0   0   0   0\n",
      "   0   0   0   0   0   4   0   0   0   1   0   0   1   0   0   0   0   0   0   0   1   0   0   0   0   0   0   0\n",
      "   0   0   0   0   0   0   0   1   0   0   0   0   0   0   0   0   0   0   0   0   0   0   0   0   0   0   0   0\n",
      "   0   0   0   0   0   0   0   0   0   0   0   0   1   0   0   0   0   0   0   0   0   0   0   0   0   0   0   0\n",
      "   0   0   0   0   0   0   0   0   2   5   0   0   0   0   0   0   0   0   0   0   2   0   0   0   0   0   0   0\n",
      "   0   0   0   0   0   0   0   0   1  65   0   0   2   0   0   0   1   0   0   0   1   0   0   0   0   0   0   0\n",
      "   0   0   0   0   0   0   0   0   0   1   0   0   0   0   0   0   0   0   0   0   0   0   0   0   0   0   0   0\n",
      "   0   0   0   0   0   0   0   0   0   0   0   0   0   0   0   0   0   0   0   0   0   0   0   0   0   0   0   0\n",
      "   0   0   0   0   0   1   0   0   0  10   0   0  25   0   0   0   0   0   0   0   1   0   0   0   1   0   0   0\n",
      "   0   0   0   0   0   0   0   0   0   1   0   0   0   1   0   0   0   0   0   0   0   0   0   0   0   0   0   0\n",
      "   0   0   0   0   0   0   0   0   0   0   0   0   0   0   0   0   0   1   0   0   0   0   0   0   0   0   0   0\n",
      "   0   0   0   0   0   0   0   0   0   0   0   0   1   0   0   0   1   2   0   0   0   0   0   0   0   0   0   0\n",
      "   0   0   0   0   0   0   0   0   0   0   0   0   1   0   0   0   1   2   0   0   0   0   0   0   0   0   0   0\n",
      "   0   0   0   0   0   0   0   0   0   0   0   0   0   0   0   0   3  10   1   0   0   0   0   0   0   0   0   0\n",
      "   0   0   0   0   0   0   0   0   0   0   0   0   0   0   0   0   0   0   0   0   0   0   0   0   0   0   0   0\n",
      "   0   0   0   0   0   0   0   0   0   0   0   0   0   0   0   0   0   0   0   0   0   0   0   0   0   0   0   0\n",
      "   0   0   0   0   0   0   0   0   1   2   0   0   0   1   0   0   1   1   0   0  28   0   0   0   0   0   0   0\n",
      "   0   0   0   0   0   0   0   0   1   1   0   0   0   0   0   0   0   0   0   0   0   0   0   0   0   0   0   0\n",
      "   0   0   0   0   0   0   0   0   0   0   0   0   0   0   0   0   0   0   0   0   0   0   0   0   0   0   0   0\n",
      "   0   0   0   0   0   0   0   0   0   0   0   0   0   0   0   0   0   0   0   0   0   0   0   0   0   0   0   0\n",
      "   0   0   0   0   0   0   0   0   0   1   0   0   0   0   0   0   1   1   0   0   0   0   0   0   0   0   0   0\n",
      "   0   0   0   0   0   0   0   0   0   0   0   0   0   0   0   0   0   0   0   0   0   0   0   0   0   0   0   0\n",
      "   0   0   0   0   0   0   0   0   0   1   0   0   1   0   0   0   0   0   0   0   0   0   1   0   0   0   0   0\n",
      "   0   0   0   0   0   0   0   0   0   0   0   0   0   0   0   0   0   0   0   0   0   0   0   0   0   0   0   0\n",
      "[0.         0.5               nan 0.                nan 0.57142857\n",
      " 0.         0.         0.22222222 0.92857143 0.                nan\n",
      " 0.65789474 0.5        0.         0.         0.25       0.71428571\n",
      "        nan        nan 0.82352941 0.                nan        nan\n",
      " 0.                nan 0.                nan]\n",
      "[       nan 1.                nan        nan        nan 0.8\n",
      "        nan 0.         0.4        0.72222222        nan        nan\n",
      " 0.75757576 0.5               nan        nan 0.125      0.58823529\n",
      " 0.                nan 0.8               nan 0.                nan\n",
      " 0.                nan        nan        nan]\n",
      "nan\n",
      "0.5742146761238609\n",
      "0.6325592526572918\n",
      "nan\n"
     ]
    },
    {
     "name": "stderr",
     "output_type": "stream",
     "text": [
      "/usr/local/lib/python3.5/dist-packages/ipykernel_launcher.py:15: RuntimeWarning: invalid value encountered in true_divide\n",
      "  from ipykernel import kernelapp as app\n",
      "/usr/local/lib/python3.5/dist-packages/ipykernel_launcher.py:16: RuntimeWarning: invalid value encountered in true_divide\n",
      "  app.launch_new_instance()\n"
     ]
    }
   ],
   "source": [
    "\n",
    "from sklearn.metrics import confusion_matrix\n",
    "\n",
    "y_true = y_te\n",
    "y_pred = rf_predictions\n",
    "classes = list(set(y))\n",
    "\n",
    "confused= confusion_matrix(y_true, y_pred, labels=classes)\n",
    "A = confused\n",
    "print(confused.shape)\n",
    "print('\\n'.join([''.join(['{:4}'.format(item) for item in row]) \n",
    "      for row in A]))\n",
    "\n",
    "cm = confused\n",
    "recall = np.diag(cm) / np.sum(cm, axis = 1)\n",
    "precision = np.diag(cm) / np.sum(cm, axis = 0)\n",
    "print(recall)\n",
    "print(precision)\n",
    "print(np.mean(recall))\n",
    "rnum = 0.0\n",
    "rd = 0\n",
    "import math\n",
    "for i in recall:\n",
    "    if not math.isnan(i) and i > 0:\n",
    "        rd +=1\n",
    "        rnum += i\n",
    "print(rnum/rd)\n",
    "pn = 0.0\n",
    "pd = 0\n",
    "for i in precision:\n",
    "    if not math.isnan(i) and i > 0:\n",
    "        pn += i\n",
    "        pd += 1\n",
    "print(pn/pd)\n",
    "\n",
    "print(np.mean(precision))\n",
    "\n"
   ]
  },
  {
   "cell_type": "code",
   "execution_count": 32,
   "metadata": {},
   "outputs": [],
   "source": [
    "import matplotlib.pyplot as plt\n",
    "\n",
    "def plot_confusion_matrix(cm, classes,\n",
    "                          normalize=False,\n",
    "                          title='Confusion matrix',\n",
    "                          cmap=plt.cm.Blues):\n",
    "\n",
    "    if normalize:\n",
    "        cm = cm.astype('float') / cm.sum(axis=1)[:, np.newaxis]\n",
    "        print(\"Normalized confusion matrix\")\n",
    "    else:\n",
    "        print('Confusion matrix, without normalization')\n",
    "\n",
    "    #print(cm)\n",
    "\n",
    "    plt.imshow(cm, interpolation='nearest', cmap=cmap)\n",
    "    plt.title(title)\n",
    "    plt.colorbar()\n",
    "    tick_marks = np.arange(len(classes))\n",
    "    plt.xticks(tick_marks, classes, rotation=45)\n",
    "    plt.yticks(tick_marks, classes)\n",
    "\n",
    "    fmt = '.2f' if normalize else 'd'\n",
    "    thresh = cm.max() / 2.\n",
    "    for i, j in itertools.product(range(cm.shape[0]), range(cm.shape[1])):\n",
    "        plt.text(j, i, format(cm[i, j], fmt),fontsize=7,\n",
    "                 horizontalalignment=\"center\",\n",
    "                 color=\"white\" if cm[i, j] > thresh else \"black\")\n",
    "\n",
    "    plt.ylabel('True label')\n",
    "    plt.xlabel('Predicted label')\n",
    "    plt.figure(figsize=(100,100),dpi=100)\n",
    "    #plt.figure()\n",
    "    #plt.tight_layout()"
   ]
  },
  {
   "cell_type": "code",
   "execution_count": 33,
   "metadata": {
    "scrolled": true
   },
   "outputs": [
    {
     "name": "stdout",
     "output_type": "stream",
     "text": [
      "Confusion matrix, without normalization\n"
     ]
    },
    {
     "data": {
      "image/png": "[encoded data removed]",
      "text/plain": [
       "<Figure size 432x288 with 2 Axes>"
      ]
     },
     "metadata": {
      "needs_background": "light"
     },
     "output_type": "display_data"
    },
    {
     "data": {
      "text/plain": [
       "<Figure size 10000x10000 with 0 Axes>"
      ]
     },
     "metadata": {},
     "output_type": "display_data"
    }
   ],
   "source": [
    "cnf_matrix = confused\n",
    "np.set_printoptions(precision=2)\n",
    "import itertools\n",
    "\n",
    "# Plot non-normalized confusion matrix\n",
    "#plt.figure()\n",
    "plot_confusion_matrix(cnf_matrix, classes=classes,\n",
    "                      title='Confusion matrix, without normalization')"
   ]
  }
 ],
 "metadata": {
  "kernelspec": {
   "display_name": "Python 3",
   "language": "python",
   "name": "python3"
  },
  "language_info": {
   "codemirror_mode": {
    "name": "ipython",
    "version": 3
   },
   "file_extension": ".py",
   "mimetype": "text/x-python",
   "name": "python",
   "nbconvert_exporter": "python",
   "pygments_lexer": "ipython3",
   "version": "3.6.5"
  },
  "toc": {
   "base_numbering": 1,
   "nav_menu": {},
   "number_sections": true,
   "sideBar": true,
   "skip_h1_title": false,
   "title_cell": "Table of Contents",
   "title_sidebar": "Contents",
   "toc_cell": false,
   "toc_position": {},
   "toc_section_display": true,
   "toc_window_display": false
  },
  "varInspector": {
   "cols": {
    "lenName": 16,
    "lenType": 16,
    "lenVar": 40
   },
   "kernels_config": {
    "python": {
     "delete_cmd_postfix": "",
     "delete_cmd_prefix": "del ",
     "library": "var_list.py",
     "varRefreshCmd": "print(var_dic_list())"
    },
    "r": {
     "delete_cmd_postfix": ") ",
     "delete_cmd_prefix": "rm(",
     "library": "var_list.r",
     "varRefreshCmd": "cat(var_dic_list()) "
    }
   },
   "types_to_exclude": [
    "module",
    "function",
    "builtin_function_or_method",
    "instance",
    "_Feature"
   ],
   "window_display": false
  }
 },
 "nbformat": 4,
 "nbformat_minor": 2
}
